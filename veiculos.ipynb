{
 "cells": [
  {
   "cell_type": "code",
   "execution_count": 1,
   "metadata": {},
   "outputs": [],
   "source": [
    "from utilities.download import download_and_read_json_xz\n",
    "\n",
    "url = \"http://dadosabertos.c3sl.ufpr.br/curitibaurbs/2023_11_24_veiculos.json.xz\"\n",
    "df = download_and_read_json_xz(url, lines=True)"
   ]
  },
  {
   "cell_type": "code",
   "execution_count": 2,
   "metadata": {},
   "outputs": [],
   "source": [
    "from utilities.coordinates import format_coord\n",
    "\n",
    "df['coords'] = df.apply(lambda row: format_coord(row['LAT'], row['LON']), axis=1)\n",
    "df.drop(['LAT', 'LON'], axis=1, inplace=True)"
   ]
  },
  {
   "cell_type": "code",
   "execution_count": 3,
   "metadata": {},
   "outputs": [
    {
     "data": {
      "text/html": [
       "<div>\n",
       "<style scoped>\n",
       "    .dataframe tbody tr th:only-of-type {\n",
       "        vertical-align: middle;\n",
       "    }\n",
       "\n",
       "    .dataframe tbody tr th {\n",
       "        vertical-align: top;\n",
       "    }\n",
       "\n",
       "    .dataframe thead th {\n",
       "        text-align: right;\n",
       "    }\n",
       "</style>\n",
       "<table border=\"1\" class=\"dataframe\">\n",
       "  <thead>\n",
       "    <tr style=\"text-align: right;\">\n",
       "      <th></th>\n",
       "      <th>VEIC</th>\n",
       "      <th>DTHR</th>\n",
       "      <th>COD_LINHA</th>\n",
       "      <th>DATE</th>\n",
       "      <th>coords</th>\n",
       "    </tr>\n",
       "  </thead>\n",
       "  <tbody>\n",
       "    <tr>\n",
       "      <th>0</th>\n",
       "      <td>BA001</td>\n",
       "      <td>23/11/2023 08:41:42</td>\n",
       "      <td>231</td>\n",
       "      <td>2023-11-24</td>\n",
       "      <td>(-49.223578, -25.376803)</td>\n",
       "    </tr>\n",
       "    <tr>\n",
       "      <th>1</th>\n",
       "      <td>BA001</td>\n",
       "      <td>23/11/2023 08:41:37</td>\n",
       "      <td>231</td>\n",
       "      <td>2023-11-24</td>\n",
       "      <td>(-49.223948, -25.376796)</td>\n",
       "    </tr>\n",
       "    <tr>\n",
       "      <th>2</th>\n",
       "      <td>BA001</td>\n",
       "      <td>23/11/2023 08:41:12</td>\n",
       "      <td>231</td>\n",
       "      <td>2023-11-24</td>\n",
       "      <td>(-49.224335, -25.376888)</td>\n",
       "    </tr>\n",
       "    <tr>\n",
       "      <th>3</th>\n",
       "      <td>BA001</td>\n",
       "      <td>23/11/2023 08:41:02</td>\n",
       "      <td>231</td>\n",
       "      <td>2023-11-24</td>\n",
       "      <td>(-49.224515, -25.376855)</td>\n",
       "    </tr>\n",
       "    <tr>\n",
       "      <th>4</th>\n",
       "      <td>BA001</td>\n",
       "      <td>23/11/2023 08:40:57</td>\n",
       "      <td>231</td>\n",
       "      <td>2023-11-24</td>\n",
       "      <td>(-49.224751, -25.376883)</td>\n",
       "    </tr>\n",
       "    <tr>\n",
       "      <th>...</th>\n",
       "      <td>...</td>\n",
       "      <td>...</td>\n",
       "      <td>...</td>\n",
       "      <td>...</td>\n",
       "      <td>...</td>\n",
       "    </tr>\n",
       "    <tr>\n",
       "      <th>3122906</th>\n",
       "      <td>XY044</td>\n",
       "      <td>23/11/2023 06:29:47</td>\n",
       "      <td>205</td>\n",
       "      <td>2023-11-24</td>\n",
       "      <td>(-49.270195, -25.429005)</td>\n",
       "    </tr>\n",
       "    <tr>\n",
       "      <th>3122907</th>\n",
       "      <td>XY044</td>\n",
       "      <td>23/11/2023 06:29:42</td>\n",
       "      <td>205</td>\n",
       "      <td>2023-11-24</td>\n",
       "      <td>(-49.270381, -25.428828)</td>\n",
       "    </tr>\n",
       "    <tr>\n",
       "      <th>3122908</th>\n",
       "      <td>XY044</td>\n",
       "      <td>23/11/2023 06:29:07</td>\n",
       "      <td>205</td>\n",
       "      <td>2023-11-24</td>\n",
       "      <td>(-49.270653, -25.428561)</td>\n",
       "    </tr>\n",
       "    <tr>\n",
       "      <th>3122909</th>\n",
       "      <td>XY044</td>\n",
       "      <td>23/11/2023 06:25:22</td>\n",
       "      <td>205</td>\n",
       "      <td>2023-11-24</td>\n",
       "      <td>(-49.27093, -25.4284)</td>\n",
       "    </tr>\n",
       "    <tr>\n",
       "      <th>3122910</th>\n",
       "      <td>XY044</td>\n",
       "      <td>23/11/2023 06:25:17</td>\n",
       "      <td>205</td>\n",
       "      <td>2023-11-24</td>\n",
       "      <td>(-49.270991, -25.428243)</td>\n",
       "    </tr>\n",
       "  </tbody>\n",
       "</table>\n",
       "<p>3122911 rows × 5 columns</p>\n",
       "</div>"
      ],
      "text/plain": [
       "          VEIC                 DTHR COD_LINHA        DATE  \\\n",
       "0        BA001  23/11/2023 08:41:42       231  2023-11-24   \n",
       "1        BA001  23/11/2023 08:41:37       231  2023-11-24   \n",
       "2        BA001  23/11/2023 08:41:12       231  2023-11-24   \n",
       "3        BA001  23/11/2023 08:41:02       231  2023-11-24   \n",
       "4        BA001  23/11/2023 08:40:57       231  2023-11-24   \n",
       "...        ...                  ...       ...         ...   \n",
       "3122906  XY044  23/11/2023 06:29:47       205  2023-11-24   \n",
       "3122907  XY044  23/11/2023 06:29:42       205  2023-11-24   \n",
       "3122908  XY044  23/11/2023 06:29:07       205  2023-11-24   \n",
       "3122909  XY044  23/11/2023 06:25:22       205  2023-11-24   \n",
       "3122910  XY044  23/11/2023 06:25:17       205  2023-11-24   \n",
       "\n",
       "                           coords  \n",
       "0        (-49.223578, -25.376803)  \n",
       "1        (-49.223948, -25.376796)  \n",
       "2        (-49.224335, -25.376888)  \n",
       "3        (-49.224515, -25.376855)  \n",
       "4        (-49.224751, -25.376883)  \n",
       "...                           ...  \n",
       "3122906  (-49.270195, -25.429005)  \n",
       "3122907  (-49.270381, -25.428828)  \n",
       "3122908  (-49.270653, -25.428561)  \n",
       "3122909     (-49.27093, -25.4284)  \n",
       "3122910  (-49.270991, -25.428243)  \n",
       "\n",
       "[3122911 rows x 5 columns]"
      ]
     },
     "execution_count": 3,
     "metadata": {},
     "output_type": "execute_result"
    }
   ],
   "source": [
    "df"
   ]
  },
  {
   "cell_type": "code",
   "execution_count": 4,
   "metadata": {},
   "outputs": [],
   "source": [
    "from utilities.elastic import get_elastic_client\n",
    "\n",
    "es = get_elastic_client()"
   ]
  },
  {
   "cell_type": "code",
   "execution_count": 5,
   "metadata": {},
   "outputs": [],
   "source": [
    "index_name = 'veiculos'\n",
    "\n",
    "index_settings = {\n",
    "\"settings\": {\n",
    "    \"number_of_shards\": 1,\n",
    "    \"number_of_replicas\": 1\n",
    "  },\n",
    "  \"mappings\": {\n",
    "    \"properties\": {\n",
    "      \"VEIC\": { \"type\": \"keyword\" },\n",
    "      \"DTHR\": { \n",
    "        \"type\": \"date\", \n",
    "        \"format\": \"dd/MM/yyyy HH:mm:ss\"\n",
    "      },\n",
    "      \"COD_LINHA\": { \"type\": \"keyword\" },\n",
    "      \"date\": { \"type\": \"date\", \"format\": \"yyyy-MM-dd\" },\n",
    "      \"coords\": { \"type\": \"geo_point\" }\n",
    "    }\n",
    "  }\n",
    "}\n",
    "\n",
    "if not es.indices.exists(index=index_name):\n",
    "    es.indices.create(index=index_name, body=index_settings)"
   ]
  },
  {
   "cell_type": "code",
   "execution_count": 6,
   "metadata": {},
   "outputs": [
    {
     "data": {
      "text/plain": [
       "3122911"
      ]
     },
     "execution_count": 6,
     "metadata": {},
     "output_type": "execute_result"
    }
   ],
   "source": [
    "len(df)"
   ]
  },
  {
   "cell_type": "code",
   "execution_count": 7,
   "metadata": {},
   "outputs": [],
   "source": [
    "from utilities.elastic import bulk_insert\n",
    "\n",
    "bulk_insert(es, df, index_name)"
   ]
  }
 ],
 "metadata": {
  "kernelspec": {
   "display_name": "tcc",
   "language": "python",
   "name": "python3"
  },
  "language_info": {
   "codemirror_mode": {
    "name": "ipython",
    "version": 3
   },
   "file_extension": ".py",
   "mimetype": "text/x-python",
   "name": "python",
   "nbconvert_exporter": "python",
   "pygments_lexer": "ipython3",
   "version": "3.9.7"
  }
 },
 "nbformat": 4,
 "nbformat_minor": 2
}
